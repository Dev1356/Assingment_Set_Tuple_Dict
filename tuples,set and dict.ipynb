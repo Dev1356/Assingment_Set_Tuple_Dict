{
 "cells": [
  {
   "cell_type": "markdown",
   "id": "13cccd61-e249-4005-ada5-6d30367ecec0",
   "metadata": {},
   "source": [
    "##Q1. What are the characteristics of the tuples? Is tuple immutable?\n",
    "<br>i) tuple can stored string\n",
    "<br>ii) we can put tuple inside the tuple \n",
    "<br>iii) we can count repepatative term inside the tuple \n",
    "<br>iv) tuple can aslo gives index\n",
    "<br>v)we can put tuple inside the list \n",
    "<br>vi)we can find the tuple  yes, tuples are immutable \n",
    "<br> yes, tuples are immutable "
   ]
  },
  {
   "cell_type": "markdown",
   "id": "e76931a5-ab06-4b8e-a019-4e36c25ced06",
   "metadata": {},
   "source": [
    "##Q2. What are the two tuple methods in python? Give an example of each method. Give a reason why\n",
    "tuples have only two in-built methods as compared to Lists."
   ]
  },
  {
   "cell_type": "code",
   "execution_count": 2,
   "id": "4adc1bb3-b055-4d49-a05e-7cd8db7a7593",
   "metadata": {},
   "outputs": [
    {
     "name": "stdout",
     "output_type": "stream",
     "text": [
      "3\n"
     ]
    }
   ],
   "source": [
    "\"\"\"The two tuple methods in Python are count() and index().\n",
    "The count() method returns the number of times a specified element appears in a tuple. Here's an example:\"\"\"\n",
    "my_tuple = (1, 2, 3, 2, 4, 2)\n",
    "count_twos = my_tuple.count(2)\n",
    "print(count_twos) \n"
   ]
  },
  {
   "cell_type": "code",
   "execution_count": 3,
   "id": "f0c9bf06-25f9-4e69-b1e9-e078c4b0d099",
   "metadata": {},
   "outputs": [
    {
     "name": "stdout",
     "output_type": "stream",
     "text": [
      "1\n"
     ]
    }
   ],
   "source": [
    "\"\"\"The index() method returns the index of the first occurrence of a specified element in a tuple. Here's an example:\"\"\"\n",
    "my_tuple = ('apple', 'banana', 'cherry', 'banana')\n",
    "banana_index = my_tuple.index('banana')\n",
    "print(banana_index) "
   ]
  },
  {
   "cell_type": "markdown",
   "id": "1b05b52e-d56c-400e-9554-2744b82360e4",
   "metadata": {},
   "source": [
    "###Q3. Which collection datatypes in python do not allow duplicate items? Write a code using a set to remove\n",
    "duplicates from the given list.\n",
    "<br>==>\"Set\" collection is datatypes in python do not allow dulicate item"
   ]
  },
  {
   "cell_type": "code",
   "execution_count": 4,
   "id": "64abdbe6-42c3-4008-9849-d9bdde0f3971",
   "metadata": {},
   "outputs": [],
   "source": [
    "lst=[1,2,3,3,4,4,5,6,6] ## exmaple of set"
   ]
  },
  {
   "cell_type": "code",
   "execution_count": 5,
   "id": "300397d4-9ccd-4747-84dd-e738adabfcfd",
   "metadata": {},
   "outputs": [
    {
     "data": {
      "text/plain": [
       "[1, 2, 3, 3, 4, 4, 5, 6, 6]"
      ]
     },
     "execution_count": 5,
     "metadata": {},
     "output_type": "execute_result"
    }
   ],
   "source": [
    "lst"
   ]
  },
  {
   "cell_type": "code",
   "execution_count": 6,
   "id": "16facd05-6d6a-440d-8084-54ac9693f1fb",
   "metadata": {},
   "outputs": [
    {
     "data": {
      "text/plain": [
       "{1, 2, 3, 4, 5, 6}"
      ]
     },
     "execution_count": 6,
     "metadata": {},
     "output_type": "execute_result"
    }
   ],
   "source": [
    "set(lst)"
   ]
  },
  {
   "cell_type": "code",
   "execution_count": 2,
   "id": "cb09ed2a-18b0-4f3a-870c-065e8c4310e1",
   "metadata": {},
   "outputs": [],
   "source": [
    "List = [1, 1, 1, 2, 1, 3, 1, 4, 2, 1, 2, 2, 2, 3, 2, 4, 3, 1, 3, 2, 3, 3, 3, 4, 4, 1, 4, 2, 4, 3, 4, 4]"
   ]
  },
  {
   "cell_type": "markdown",
   "id": "be7105a7-95e1-49cf-b631-007939e11aa5",
   "metadata": {},
   "source": [
    "###Q4. Explain the difference between the union() and update() methods for a set. Give an example of\n",
    "each method.\n",
    "<br>Union:-If we take union of two set then it removes common element from both and write a set.\n",
    "<br>Update:- if we want change any number or element inside the set then it is an update."
   ]
  },
  {
   "cell_type": "markdown",
   "id": "cdfd2426-7d39-4251-8d3d-157ccdea8578",
   "metadata": {},
   "source": [
    "###Q4. Explain the difference between the union() and update() methods for a set. Give an example of\n",
    "each method.\n",
    "<br>Union:-If we take union of two set then it removes common element from both and write a set.\n",
    "<br>Update:- if we want change any number or element inside the set then it is an update."
   ]
  },
  {
   "cell_type": "code",
   "execution_count": 3,
   "id": "0a62b8ac-43d9-44c6-885c-cd20aff0b01f",
   "metadata": {},
   "outputs": [],
   "source": [
    "set1={1,2,3,4,5}\n",
    "set2={4,5,6,7,8,9,10}"
   ]
  },
  {
   "cell_type": "code",
   "execution_count": 4,
   "id": "e8d15afe-f766-4a62-9e0f-29ff330fe4fd",
   "metadata": {},
   "outputs": [
    {
     "data": {
      "text/plain": [
       "{1, 2, 3, 4, 5, 6, 7, 8, 9, 10}"
      ]
     },
     "execution_count": 4,
     "metadata": {},
     "output_type": "execute_result"
    }
   ],
   "source": [
    "set1.union(set2)"
   ]
  },
  {
   "cell_type": "code",
   "execution_count": 10,
   "id": "e9149e76-7d73-4693-85f4-5f2f4a38f62a",
   "metadata": {},
   "outputs": [],
   "source": [
    "set1.update([1,23,50,60])"
   ]
  },
  {
   "cell_type": "code",
   "execution_count": 11,
   "id": "025e6690-74b1-4a1e-8fd0-27fe39c9b767",
   "metadata": {},
   "outputs": [
    {
     "data": {
      "text/plain": [
       "{1, '1', 10, 2, 23, 3, 4, 5, 50, 6, 60, 7, 8, 9}"
      ]
     },
     "execution_count": 11,
     "metadata": {},
     "output_type": "execute_result"
    }
   ],
   "source": [
    "set1"
   ]
  },
  {
   "cell_type": "markdown",
   "id": "ee3a486f-fc39-43b7-9243-d47a4a722e87",
   "metadata": {},
   "source": [
    "###Q5. What is a dictionary? Give an example. Also, state whether a dictionary is ordered or unordered.\n",
    "<br>A dictionary is a collection of key-value pairs, where each key is unique and associated with a corresponding value. The keys in a dictionary are used to look up the values, which can be of any data type. Dictionaries are useful for storing and retrieving data quickly and efficiently.\n"
   ]
  },
  {
   "cell_type": "code",
   "execution_count": 12,
   "id": "a23ef4b3-38dc-472c-a024-fc119b2a273b",
   "metadata": {},
   "outputs": [
    {
     "name": "stdout",
     "output_type": "stream",
     "text": [
      "{'Alice': 95, 'Bob': 80, 'Charlie': 90}\n"
     ]
    }
   ],
   "source": [
    "# Create a dictionary of student names and their grades\n",
    "grades = {'Alice': 95, 'Bob': 80, 'Charlie': 90}\n",
    "\n",
    "# Print the grades dictionary\n",
    "print(grades)"
   ]
  },
  {
   "cell_type": "code",
   "execution_count": 15,
   "id": "0f6b86b6-7a69-4775-9ffe-eba2175c44c9",
   "metadata": {},
   "outputs": [
    {
     "data": {
      "text/plain": [
       "90"
      ]
     },
     "execution_count": 15,
     "metadata": {},
     "output_type": "execute_result"
    }
   ],
   "source": [
    "grades[\"Charlie\"]## We can find the order of key then ouput gives is value"
   ]
  },
  {
   "cell_type": "markdown",
   "id": "47208a55-2bc5-4103-9c25-80ef624d2a5c",
   "metadata": {},
   "source": [
    "###Q6. Can we create a nested dictionary? If so, please give an example by creating a simple one-level\n",
    "nested dictionary.\n",
    "<br>==>A nestedQ6. Can we create a nested dictionary? If so, please give an example by creating a simple one-level\n",
    "nested dictionary. dictionary is a dictionary that contains one or more dictionaries as values. Each key in the outer dictionary maps to an inner dictionary."
   ]
  },
  {
   "cell_type": "code",
   "execution_count": 16,
   "id": "8d01a77e-af86-429e-8f82-bae8668086d8",
   "metadata": {},
   "outputs": [
    {
     "name": "stdout",
     "output_type": "stream",
     "text": [
      "{'Alice': {'Math': 95, 'Science': 90}, 'Bob': {'Math': 80, 'Science': 85}, 'Charlie': {'Math': 90, 'Science': 95}}\n"
     ]
    }
   ],
   "source": [
    "# Create a dictionary of student names and their grades in different subjects\n",
    "grades = {\n",
    "    'Alice': {'Math': 95, 'Science': 90},\n",
    "    'Bob': {'Math': 80, 'Science': 85},\n",
    "    'Charlie': {'Math': 90, 'Science': 95}\n",
    "}\n",
    "\n",
    "# Print the grades dictionary\n",
    "print(grades)"
   ]
  },
  {
   "cell_type": "code",
   "execution_count": 21,
   "id": "a46d452c-708a-4894-82c0-d27cec3df6eb",
   "metadata": {},
   "outputs": [
    {
     "data": {
      "text/plain": [
       "95"
      ]
     },
     "execution_count": 21,
     "metadata": {},
     "output_type": "execute_result"
    }
   ],
   "source": [
    "grades[\"Alice\"][\"Math\"] ##this nested dictionary example "
   ]
  },
  {
   "cell_type": "markdown",
   "id": "caa59b6e-01de-42d0-be42-5442f2848562",
   "metadata": {},
   "source": [
    "###Q7. Using setdefault() method, create key named topics in the given dictionary and also add the value of\n",
    "the key as this list ['Python', 'Machine Learning’, 'Deep Learning']\n",
    "dict1 = {'language' : 'Python', 'course': 'Data Science Masters'}"
   ]
  },
  {
   "cell_type": "code",
   "execution_count": 22,
   "id": "248a4da0-2a6a-49eb-9462-dfd519ffedd0",
   "metadata": {},
   "outputs": [
    {
     "name": "stdout",
     "output_type": "stream",
     "text": [
      "{'language': 'Python', 'course': 'Data Science Masters', 'topics': ['Python', 'Machine Learning', 'Deep Learning']}\n"
     ]
    }
   ],
   "source": [
    "# Define the original dictionary\n",
    "dict1 = {'language': 'Python', 'course': 'Data Science Masters'}\n",
    "\n",
    "# Use setdefault() to add the 'topics' key with a default value of ['Python', 'Machine Learning', 'Deep Learning']\n",
    "dict1.setdefault('topics', ['Python', 'Machine Learning', 'Deep Learning'])\n",
    "\n",
    "# Print the updated dictionary\n",
    "print(dict1)"
   ]
  },
  {
   "cell_type": "markdown",
   "id": "0710ce1e-5430-4a3a-b38a-09dab49add07",
   "metadata": {},
   "source": [
    "###Q8. What are the three view objects in dictionaries? Use the three in-built methods in python to display\n",
    "these three view objects for the given dictionary.\n",
    "<br>==>1.dict.keys() - returns a view object of the keys in the dictionary\n",
    "<br>2.dict.values() - returns a view object of the values in the dictionary\n",
    "<br>3.dict.items() - returns a view object of the key-value pairs in the dictionary"
   ]
  },
  {
   "cell_type": "code",
   "execution_count": 23,
   "id": "fd0c223c-195b-4de1-ba08-179398df3c4a",
   "metadata": {},
   "outputs": [
    {
     "name": "stdout",
     "output_type": "stream",
     "text": [
      "Keys view object: dict_keys(['a', 'b', 'c'])\n",
      "Values view object: dict_values([1, 2, 3])\n",
      "Items view object: dict_items([('a', 1), ('b', 2), ('c', 3)])\n"
     ]
    }
   ],
   "source": [
    "# Define a dictionary\n",
    "my_dict = {'a': 1, 'b': 2, 'c': 3}\n",
    "\n",
    "# Display the keys view object\n",
    "print(\"Keys view object:\", my_dict.keys())\n",
    "\n",
    "# Display the values view object\n",
    "print(\"Values view object:\", my_dict.values())\n",
    "\n",
    "# Display the items view object\n",
    "print(\"Items view object:\", my_dict.items())"
   ]
  },
  {
   "cell_type": "code",
   "execution_count": null,
   "id": "b2b2b1f3-9b57-4fee-9a2b-7638e174a412",
   "metadata": {},
   "outputs": [],
   "source": []
  }
 ],
 "metadata": {
  "kernelspec": {
   "display_name": "Python 3 (ipykernel)",
   "language": "python",
   "name": "python3"
  },
  "language_info": {
   "codemirror_mode": {
    "name": "ipython",
    "version": 3
   },
   "file_extension": ".py",
   "mimetype": "text/x-python",
   "name": "python",
   "nbconvert_exporter": "python",
   "pygments_lexer": "ipython3",
   "version": "3.10.8"
  }
 },
 "nbformat": 4,
 "nbformat_minor": 5
}
